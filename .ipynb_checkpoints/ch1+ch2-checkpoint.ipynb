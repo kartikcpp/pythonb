{
 "cells": [
  {
   "cell_type": "markdown",
   "id": "a6183cd4",
   "metadata": {},
   "source": [
    "A package is nothing more than a folder, which must contain a special file,\n",
    "\\__init__.py, that doesn't need to hold any code but whose presence is required to tell\n",
    "Python that the folder is not just some folder, but it's actually a package (note that as of\n",
    "Python 3.3, the \\__init__.py module is not strictly required any more)."
   ]
  },
  {
   "cell_type": "markdown",
   "id": "bc6f015f",
   "metadata": {},
   "source": [
    " a library is a collection of functions and\n",
    "objects that provide functionalities that enrich the abilities of a language"
   ]
  },
  {
   "cell_type": "code",
   "execution_count": 1,
   "id": "a485d4f4",
   "metadata": {},
   "outputs": [
    {
     "data": {
      "text/plain": [
       "120"
      ]
     },
     "execution_count": 1,
     "metadata": {},
     "output_type": "execute_result"
    }
   ],
   "source": [
    "from math import factorial\n",
    "factorial(5)"
   ]
  },
  {
   "cell_type": "markdown",
   "id": "51f109c0",
   "metadata": {},
   "source": [
    "The local scope, which is the innermost one and contains the local names.\n",
    "The enclosing scope, that is, the scope of any enclosing function. It contains nonlocal names and also non-global names.\n",
    "The global scope contains the global names.\n",
    "The built-in scope contains the built-in names. Python comes with a set of\n",
    "functions that you can use in an off-the-shelf fashion, such as print, all, abs,\n",
    "and so on. They live in the built-in scope."
   ]
  },
  {
   "cell_type": "markdown",
   "id": "2e70871f",
   "metadata": {},
   "source": [
    "The order in which the namespaces are scanned when looking for a name is therefore: local,\n",
    "enclosing, global, built-in (LEGB)."
   ]
  },
  {
   "cell_type": "code",
   "execution_count": 2,
   "id": "a6a2ce69",
   "metadata": {},
   "outputs": [
    {
     "name": "stdout",
     "output_type": "stream",
     "text": [
      "The Zen of Python, by Tim Peters\n",
      "\n",
      "Beautiful is better than ugly.\n",
      "Explicit is better than implicit.\n",
      "Simple is better than complex.\n",
      "Complex is better than complicated.\n",
      "Flat is better than nested.\n",
      "Sparse is better than dense.\n",
      "Readability counts.\n",
      "Special cases aren't special enough to break the rules.\n",
      "Although practicality beats purity.\n",
      "Errors should never pass silently.\n",
      "Unless explicitly silenced.\n",
      "In the face of ambiguity, refuse the temptation to guess.\n",
      "There should be one-- and preferably only one --obvious way to do it.\n",
      "Although that way may not be obvious at first unless you're Dutch.\n",
      "Now is better than never.\n",
      "Although never is often better than *right* now.\n",
      "If the implementation is hard to explain, it's a bad idea.\n",
      "If the implementation is easy to explain, it may be a good idea.\n",
      "Namespaces are one honking great idea -- let's do more of those!\n"
     ]
    }
   ],
   "source": [
    "import this"
   ]
  },
  {
   "cell_type": "markdown",
   "id": "0bb85203",
   "metadata": {},
   "source": [
    "# ch2 Built in Data types"
   ]
  },
  {
   "cell_type": "markdown",
   "id": "ff38cd5b",
   "metadata": {},
   "source": [
    "In this chapter, we are going to cover the following:\n",
    "Python objects' structures\n",
    "Mutability and immutability\n",
    "Built-in data types: numbers, strings, sequences, collections, and mapping types\n",
    "The collections module\n",
    "Enumerations"
   ]
  },
  {
   "cell_type": "code",
   "execution_count": 3,
   "id": "8e7f6e6e",
   "metadata": {},
   "outputs": [],
   "source": [
    "# everything is an object"
   ]
  },
  {
   "cell_type": "code",
   "execution_count": 4,
   "id": "ccb1e4c9",
   "metadata": {},
   "outputs": [],
   "source": [
    "age=45"
   ]
  },
  {
   "cell_type": "markdown",
   "id": "911156b1",
   "metadata": {},
   "source": [
    "So, what happens is that an object is created. It gets an id, the type is set to int (integer\n",
    "number), and the value to 42. A name age is placed in the global namespace, pointing to\n",
    "that object. Therefore, whenever we are in the global namespace, after the execution of that\n",
    "line, we can retrieve that object by simply accessing it through its name: age"
   ]
  },
  {
   "cell_type": "markdown",
   "id": "363aafba",
   "metadata": {},
   "source": [
    "# mutable or immutable\n"
   ]
  },
  {
   "cell_type": "code",
   "execution_count": 6,
   "id": "7addd726",
   "metadata": {},
   "outputs": [],
   "source": [
    "#the value can change the object is called mutable\n",
    "# while if the value cannot change that object is called immutable"
   ]
  },
  {
   "cell_type": "code",
   "execution_count": 8,
   "id": "63cb1efb",
   "metadata": {},
   "outputs": [
    {
     "data": {
      "text/plain": [
       "1833930282096"
      ]
     },
     "execution_count": 8,
     "metadata": {},
     "output_type": "execute_result"
    }
   ],
   "source": [
    "age=34\n",
    "id(age)\n",
    "age=89\n",
    "id(age)\n",
    "# int is immutable"
   ]
  },
  {
   "cell_type": "code",
   "execution_count": 9,
   "id": "ea2927a6",
   "metadata": {},
   "outputs": [],
   "source": [
    "#numbers are immutable objects"
   ]
  },
  {
   "cell_type": "code",
   "execution_count": 10,
   "id": "a4e86ebd",
   "metadata": {},
   "outputs": [],
   "source": [
    "#integers python integers have an unlimited range "
   ]
  },
  {
   "cell_type": "code",
   "execution_count": 11,
   "id": "ef3db4e3",
   "metadata": {},
   "outputs": [
    {
     "data": {
      "text/plain": [
       "1.75"
      ]
     },
     "execution_count": 11,
     "metadata": {},
     "output_type": "execute_result"
    }
   ],
   "source": [
    "7/4"
   ]
  },
  {
   "cell_type": "code",
   "execution_count": 13,
   "id": "f6e60e6d",
   "metadata": {},
   "outputs": [
    {
     "data": {
      "text/plain": [
       "1"
      ]
     },
     "execution_count": 13,
     "metadata": {},
     "output_type": "execute_result"
    }
   ],
   "source": [
    "7//5# integer division"
   ]
  },
  {
   "cell_type": "code",
   "execution_count": 14,
   "id": "7673a456",
   "metadata": {},
   "outputs": [],
   "source": [
    "#s. The result of an integer division in Python is always rounded towards minus infinity"
   ]
  },
  {
   "cell_type": "code",
   "execution_count": 15,
   "id": "cf3b5b06",
   "metadata": {},
   "outputs": [
    {
     "data": {
      "text/plain": [
       "1"
      ]
     },
     "execution_count": 15,
     "metadata": {},
     "output_type": "execute_result"
    }
   ],
   "source": [
    "# built in function \n",
    "int(1.4)"
   ]
  },
  {
   "cell_type": "code",
   "execution_count": 16,
   "id": "6b0d9bb0",
   "metadata": {},
   "outputs": [
    {
     "data": {
      "text/plain": [
       "2"
      ]
     },
     "execution_count": 16,
     "metadata": {},
     "output_type": "execute_result"
    }
   ],
   "source": [
    "10%4"
   ]
  },
  {
   "cell_type": "markdown",
   "id": "7a93704a",
   "metadata": {},
   "source": [
    "One nice feature introduced in Python 3.6 is the ability to add underscores within number\n",
    "literals (between digits or base specifiers, but not leading or trailing). The purpose is to help\n",
    "make some numbers more readable, like for example 1_000_000_000:\n"
   ]
  },
  {
   "cell_type": "code",
   "execution_count": 17,
   "id": "f1ba9b4a",
   "metadata": {},
   "outputs": [],
   "source": [
    "hex=0x90"
   ]
  },
  {
   "cell_type": "code",
   "execution_count": 18,
   "id": "4e774afd",
   "metadata": {},
   "outputs": [
    {
     "data": {
      "text/plain": [
       "144"
      ]
     },
     "execution_count": 18,
     "metadata": {},
     "output_type": "execute_result"
    }
   ],
   "source": [
    "hex"
   ]
  },
  {
   "cell_type": "markdown",
   "id": "39c5448e",
   "metadata": {},
   "source": [
    "# booleans"
   ]
  },
  {
   "cell_type": "code",
   "execution_count": 21,
   "id": "6e8ba252",
   "metadata": {},
   "outputs": [],
   "source": [
    "#Boolean values can be combined in Boolean expressions using the logical operators and, or,and not."
   ]
  },
  {
   "cell_type": "code",
   "execution_count": 23,
   "id": "80e7e7a2",
   "metadata": {},
   "outputs": [],
   "source": [
    "iop=True\n",
    "iopi=False"
   ]
  },
  {
   "cell_type": "markdown",
   "id": "0eea50a0",
   "metadata": {},
   "source": [
    "You can see that True and False are subclasses of integers when you try to add them.\n",
    "Python upcasts them to integers and performs the addition:"
   ]
  },
  {
   "cell_type": "code",
   "execution_count": 24,
   "id": "40e212c4",
   "metadata": {},
   "outputs": [
    {
     "data": {
      "text/plain": [
       "2"
      ]
     },
     "execution_count": 24,
     "metadata": {},
     "output_type": "execute_result"
    }
   ],
   "source": [
    "1+True"
   ]
  },
  {
   "cell_type": "markdown",
   "id": "1fb041ea",
   "metadata": {},
   "source": [
    "# Real numbers"
   ]
  },
  {
   "cell_type": "code",
   "execution_count": 25,
   "id": "226564d8",
   "metadata": {},
   "outputs": [
    {
     "data": {
      "text/plain": [
       "50.24"
      ]
     },
     "execution_count": 25,
     "metadata": {},
     "output_type": "execute_result"
    }
   ],
   "source": [
    "pi=3.14\n",
    "radius=4\n",
    "area=pi*(radius**2)\n",
    "area"
   ]
  },
  {
   "cell_type": "code",
   "execution_count": 26,
   "id": "6f1378f6",
   "metadata": {},
   "outputs": [
    {
     "data": {
      "text/plain": [
       "sys.float_info(max=1.7976931348623157e+308, max_exp=1024, max_10_exp=308, min=2.2250738585072014e-308, min_exp=-1021, min_10_exp=-307, dig=15, mant_dig=53, epsilon=2.220446049250313e-16, radix=2, rounds=1)"
      ]
     },
     "execution_count": 26,
     "metadata": {},
     "output_type": "execute_result"
    }
   ],
   "source": [
    "import sys\n",
    "sys.float_info"
   ]
  },
  {
   "cell_type": "code",
   "execution_count": 27,
   "id": "264a0d5d",
   "metadata": {},
   "outputs": [
    {
     "data": {
      "text/plain": [
       "-5.551115123125783e-17"
      ]
     },
     "execution_count": 27,
     "metadata": {},
     "output_type": "execute_result"
    }
   ],
   "source": [
    "0.3 - 0.1 * 3 \n",
    "\n"
   ]
  },
  {
   "cell_type": "markdown",
   "id": "1b00b986",
   "metadata": {},
   "source": [
    "What does this tell you? It tells you that double precision numbers suffer from\n",
    "approximation issues even when it comes to simple numbers like 0.1 or 0.3. Why is this\n",
    "important? It can be a big problem if you're handling prices, or financial calculations, or any\n",
    "kind of data that needs not to be approximated. Don't worry, Python gives you the decimal\n",
    "type, which doesn't suffer from these issues; we'll see them in a moment."
   ]
  },
  {
   "cell_type": "markdown",
   "id": "26df4433",
   "metadata": {},
   "source": [
    "# Complex numbers"
   ]
  },
  {
   "cell_type": "code",
   "execution_count": 29,
   "id": "3758ee94",
   "metadata": {},
   "outputs": [],
   "source": [
    "# python gives you complex number support out of the box"
   ]
  },
  {
   "cell_type": "code",
   "execution_count": 43,
   "id": "9dd4e374",
   "metadata": {},
   "outputs": [],
   "source": [
    "c=7+3.5j"
   ]
  },
  {
   "cell_type": "code",
   "execution_count": 44,
   "id": "9748e4d9",
   "metadata": {},
   "outputs": [
    {
     "data": {
      "text/plain": [
       "7.0"
      ]
     },
     "execution_count": 44,
     "metadata": {},
     "output_type": "execute_result"
    }
   ],
   "source": [
    "c.real"
   ]
  },
  {
   "cell_type": "code",
   "execution_count": 45,
   "id": "c514cce6",
   "metadata": {},
   "outputs": [
    {
     "data": {
      "text/plain": [
       "3.5"
      ]
     },
     "execution_count": 45,
     "metadata": {},
     "output_type": "execute_result"
    }
   ],
   "source": [
    "c.imag"
   ]
  },
  {
   "cell_type": "code",
   "execution_count": 46,
   "id": "ddde8e6e",
   "metadata": {},
   "outputs": [
    {
     "data": {
      "text/plain": [
       "(7-3.5j)"
      ]
     },
     "execution_count": 46,
     "metadata": {},
     "output_type": "execute_result"
    }
   ],
   "source": [
    "c.conjugate()"
   ]
  },
  {
   "cell_type": "code",
   "execution_count": 47,
   "id": "de552bf3",
   "metadata": {},
   "outputs": [
    {
     "data": {
      "text/plain": [
       "(14+7j)"
      ]
     },
     "execution_count": 47,
     "metadata": {},
     "output_type": "execute_result"
    }
   ],
   "source": [
    "c*2"
   ]
  },
  {
   "cell_type": "code",
   "execution_count": 48,
   "id": "955f6423",
   "metadata": {},
   "outputs": [
    {
     "data": {
      "text/plain": [
       "(36.75+49j)"
      ]
     },
     "execution_count": 48,
     "metadata": {},
     "output_type": "execute_result"
    }
   ],
   "source": [
    "c**2"
   ]
  },
  {
   "cell_type": "code",
   "execution_count": 49,
   "id": "e6c4de45",
   "metadata": {},
   "outputs": [],
   "source": [
    "c=c**3"
   ]
  },
  {
   "cell_type": "code",
   "execution_count": 50,
   "id": "6529ee55",
   "metadata": {},
   "outputs": [
    {
     "data": {
      "text/plain": [
       "(85.75+471.625j)"
      ]
     },
     "execution_count": 50,
     "metadata": {},
     "output_type": "execute_result"
    }
   ],
   "source": [
    "c"
   ]
  },
  {
   "cell_type": "code",
   "execution_count": 53,
   "id": "483397cc",
   "metadata": {},
   "outputs": [
    {
     "data": {
      "text/plain": [
       "(93.75+471.625j)"
      ]
     },
     "execution_count": 53,
     "metadata": {},
     "output_type": "execute_result"
    }
   ],
   "source": [
    "c+8.0"
   ]
  },
  {
   "cell_type": "code",
   "execution_count": 54,
   "id": "ab0768bf",
   "metadata": {},
   "outputs": [
    {
     "data": {
      "text/plain": [
       "(52.75+471.625j)"
      ]
     },
     "execution_count": 54,
     "metadata": {},
     "output_type": "execute_result"
    }
   ],
   "source": [
    "c-33"
   ]
  },
  {
   "cell_type": "markdown",
   "id": "1f0352c9",
   "metadata": {},
   "source": [
    "# fractions and decimals"
   ]
  },
  {
   "cell_type": "code",
   "execution_count": 57,
   "id": "fc978cab",
   "metadata": {},
   "outputs": [
    {
     "data": {
      "text/plain": [
       "Fraction(10, 3)"
      ]
     },
     "execution_count": 57,
     "metadata": {},
     "output_type": "execute_result"
    }
   ],
   "source": [
    "from fractions import Fraction\n",
    "Fraction(10,3)"
   ]
  },
  {
   "cell_type": "code",
   "execution_count": 62,
   "id": "69dd8db7",
   "metadata": {},
   "outputs": [
    {
     "data": {
      "text/plain": [
       "Fraction(562, 3933)"
      ]
     },
     "execution_count": 62,
     "metadata": {},
     "output_type": "execute_result"
    }
   ],
   "source": [
    "f=Fraction(1,23)+Fraction(34,342)\n",
    "f"
   ]
  },
  {
   "cell_type": "code",
   "execution_count": 63,
   "id": "dee1fdff",
   "metadata": {},
   "outputs": [
    {
     "data": {
      "text/plain": [
       "3933"
      ]
     },
     "execution_count": 63,
     "metadata": {},
     "output_type": "execute_result"
    }
   ],
   "source": [
    "f.denominator"
   ]
  },
  {
   "cell_type": "code",
   "execution_count": 64,
   "id": "f0a4277f",
   "metadata": {},
   "outputs": [
    {
     "data": {
      "text/plain": [
       "562"
      ]
     },
     "execution_count": 64,
     "metadata": {},
     "output_type": "execute_result"
    }
   ],
   "source": [
    "f.numerator"
   ]
  },
  {
   "cell_type": "code",
   "execution_count": 65,
   "id": "3276d7ad",
   "metadata": {},
   "outputs": [],
   "source": [
    "from decimal import Decimal as D"
   ]
  },
  {
   "cell_type": "code",
   "execution_count": 66,
   "id": "b659b803",
   "metadata": {},
   "outputs": [
    {
     "data": {
      "text/plain": [
       "Decimal('3.140000000000000124344978758017532527446746826171875')"
      ]
     },
     "execution_count": 66,
     "metadata": {},
     "output_type": "execute_result"
    }
   ],
   "source": [
    "D(3.14)"
   ]
  },
  {
   "cell_type": "code",
   "execution_count": 68,
   "id": "2bd90e78",
   "metadata": {},
   "outputs": [],
   "source": [
    "#When it comes to money, use decimals"
   ]
  },
  {
   "cell_type": "markdown",
   "id": "38b5468c",
   "metadata": {},
   "source": [
    "# immutable sequences"
   ]
  },
  {
   "cell_type": "code",
   "execution_count": 70,
   "id": "531d4623",
   "metadata": {},
   "outputs": [],
   "source": [
    "# str"
   ]
  },
  {
   "cell_type": "code",
   "execution_count": 71,
   "id": "9ad82144",
   "metadata": {},
   "outputs": [],
   "source": [
    "#they are immutable sequences of unicode code points"
   ]
  },
  {
   "cell_type": "code",
   "execution_count": 72,
   "id": "f4fb9de2",
   "metadata": {},
   "outputs": [],
   "source": [
    "#Python, unlike other languages, doesn't have a char type,"
   ]
  },
  {
   "cell_type": "code",
   "execution_count": 73,
   "id": "ae9195a6",
   "metadata": {},
   "outputs": [
    {
     "data": {
      "text/plain": [
       "3"
      ]
     },
     "execution_count": 73,
     "metadata": {},
     "output_type": "execute_result"
    }
   ],
   "source": [
    "str='f'\n",
    "sr=\"dsd\"\n",
    "ser='''sfsf'''\n",
    "len(sr)"
   ]
  },
  {
   "cell_type": "markdown",
   "id": "e29da3a8",
   "metadata": {},
   "source": [
    "# encoding and decoding strings"
   ]
  },
  {
   "cell_type": "code",
   "execution_count": 75,
   "id": "c2072a57",
   "metadata": {},
   "outputs": [
    {
     "name": "stdout",
     "output_type": "stream",
     "text": [
      "<class 'str'>\n"
     ]
    }
   ],
   "source": [
    "s='spop'\n",
    "print(type(s))"
   ]
  },
  {
   "cell_type": "markdown",
   "id": "f429d686",
   "metadata": {},
   "source": [
    "Using the encode/decode methods, we can encode Unicode strings and decode bytes\n",
    "objects. UTF-8 is a variable length character encoding, capable of encoding all possible\n",
    "Unicode code points. It is the dominant encoding for the web. Notice also that by adding a\n",
    "literal b in front of a string declaration, we're creating a bytes object:\n"
   ]
  },
  {
   "cell_type": "code",
   "execution_count": 77,
   "id": "937554c3",
   "metadata": {},
   "outputs": [
    {
     "data": {
      "text/plain": [
       "b'spop'"
      ]
     },
     "execution_count": 77,
     "metadata": {},
     "output_type": "execute_result"
    }
   ],
   "source": [
    "encodess=s.encode('utf-8')\n",
    "encodess"
   ]
  },
  {
   "cell_type": "code",
   "execution_count": 78,
   "id": "8bf0536e",
   "metadata": {},
   "outputs": [
    {
     "data": {
      "text/plain": [
       "bytes"
      ]
     },
     "execution_count": 78,
     "metadata": {},
     "output_type": "execute_result"
    }
   ],
   "source": [
    "type(encodess)"
   ]
  },
  {
   "cell_type": "code",
   "execution_count": 80,
   "id": "1ff12229",
   "metadata": {},
   "outputs": [
    {
     "data": {
      "text/plain": [
       "bytes"
      ]
     },
     "execution_count": 80,
     "metadata": {},
     "output_type": "execute_result"
    }
   ],
   "source": [
    "type(b'sdsdsdsd')"
   ]
  },
  {
   "cell_type": "code",
   "execution_count": 82,
   "id": "5f2074ca",
   "metadata": {},
   "outputs": [
    {
     "data": {
      "text/plain": [
       "str"
      ]
     },
     "execution_count": 82,
     "metadata": {},
     "output_type": "execute_result"
    }
   ],
   "source": [
    "type(encodess.decode('utf-8'))"
   ]
  },
  {
   "cell_type": "code",
   "execution_count": 83,
   "id": "05dcf013",
   "metadata": {},
   "outputs": [
    {
     "data": {
      "text/plain": [
       "b'fgfgfg'"
      ]
     },
     "execution_count": 83,
     "metadata": {},
     "output_type": "execute_result"
    }
   ],
   "source": [
    "# byte object\n",
    "b'fgfgfg'"
   ]
  },
  {
   "cell_type": "markdown",
   "id": "c0b0c4c7",
   "metadata": {},
   "source": [
    "# indexing and slicing strings"
   ]
  },
  {
   "cell_type": "code",
   "execution_count": 86,
   "id": "b322b8e9",
   "metadata": {},
   "outputs": [],
   "source": [
    "# access them at one precise position (indexing), \n",
    "#or to get a subsequence out of them (slicing).\n",
    "#When dealing with immutable sequences, both operations are read-only.\n"
   ]
  },
  {
   "cell_type": "markdown",
   "id": "c2f666e7",
   "metadata": {},
   "source": [
    "While indexing comes in one form, a zero-based access to any position within the sequence,\n",
    "slicing comes in different forms. When you get a slice of a sequence, you can specify the\n",
    "start and stop positions, and the step. They are separated with a colon (:) like this:\n",
    "my_sequence[start:stop:step]. All the arguments are optional, start is inclusive,\n",
    "and stop is exclusive.`"
   ]
  },
  {
   "cell_type": "code",
   "execution_count": 87,
   "id": "2018630e",
   "metadata": {},
   "outputs": [],
   "source": [
    "# string formatting"
   ]
  },
  {
   "cell_type": "code",
   "execution_count": 88,
   "id": "ecbb1c11",
   "metadata": {},
   "outputs": [
    {
     "data": {
      "text/plain": [
       "'hello %s'"
      ]
     },
     "execution_count": 88,
     "metadata": {},
     "output_type": "execute_result"
    }
   ],
   "source": [
    "greetold='hello %s'\n",
    "greetold"
   ]
  },
  {
   "cell_type": "code",
   "execution_count": 90,
   "id": "9c60af29",
   "metadata": {},
   "outputs": [
    {
     "data": {
      "text/plain": [
       "'hello kop'"
      ]
     },
     "execution_count": 90,
     "metadata": {},
     "output_type": "execute_result"
    }
   ],
   "source": [
    "greetold %'kop'"
   ]
  },
  {
   "cell_type": "code",
   "execution_count": 91,
   "id": "97d853bc",
   "metadata": {},
   "outputs": [],
   "source": [
    "greetpositional='djdjd {} {}'.format('kop','opl')"
   ]
  },
  {
   "cell_type": "code",
   "execution_count": 92,
   "id": "c63cbc23",
   "metadata": {},
   "outputs": [
    {
     "data": {
      "text/plain": [
       "'djdjd kop opl'"
      ]
     },
     "execution_count": 92,
     "metadata": {},
     "output_type": "execute_result"
    }
   ],
   "source": [
    "greetpositional"
   ]
  },
  {
   "cell_type": "markdown",
   "id": "60b64e30",
   "metadata": {},
   "source": [
    "# Tuples"
   ]
  },
  {
   "cell_type": "code",
   "execution_count": 94,
   "id": "00fd015e",
   "metadata": {},
   "outputs": [],
   "source": [
    "#The last immutable sequence type we're going to see is the tuple."
   ]
  },
  {
   "cell_type": "markdown",
   "id": "fc1a09e8",
   "metadata": {},
   "source": [
    "Sometimes tuples are used implicitly; for example, to set up multiple variables\n",
    "on one line, or to allow a function to return multiple different objects (usually a function\n",
    "returns one object only, in many other languages), and even in the Python console, you can\n",
    "use tuples implicitly to print multiple elements with one single instruction. We'll see\n",
    "examples for all these cases:"
   ]
  },
  {
   "cell_type": "markdown",
   "id": "74f4a2ae",
   "metadata": {},
   "source": [
    ">>> t = () # empty tuple\n",
    ">>> type(t)\n",
    "<class 'tuple'>\n",
    ">>> one_element_tuple = (42, ) # you need the comma!\n",
    ">>> three_elements_tuple = (1, 3, 5) # braces are optional here\n",
    ">>> a, b, c = 1, 2, 3 # tuple for multiple assignment\n",
    ">>> a, b, c # implicit tuple to print with one instruction\n",
    "(1, 2, 3)\n",
    ">>> 3 in three_elements_tuple # membership test\n",
    "True"
   ]
  },
  {
   "cell_type": "code",
   "execution_count": 95,
   "id": "3678c20b",
   "metadata": {},
   "outputs": [],
   "source": [
    "er=1,2,3"
   ]
  },
  {
   "cell_type": "code",
   "execution_count": 96,
   "id": "9c6d2c7d",
   "metadata": {},
   "outputs": [
    {
     "data": {
      "text/plain": [
       "tuple"
      ]
     },
     "execution_count": 96,
     "metadata": {},
     "output_type": "execute_result"
    }
   ],
   "source": [
    "type(er)"
   ]
  },
  {
   "cell_type": "markdown",
   "id": "486c12c7",
   "metadata": {},
   "source": [
    ">>> a, b = 0, 1\n",
    ">>> a, b = b, a # this is the Pythonic way to do it\n",
    ">>> a, b\n"
   ]
  },
  {
   "cell_type": "code",
   "execution_count": 1,
   "id": "29570d1c",
   "metadata": {},
   "outputs": [],
   "source": [
    "a,b,c=1,2,3"
   ]
  },
  {
   "cell_type": "code",
   "execution_count": 3,
   "id": "ba195cee",
   "metadata": {},
   "outputs": [
    {
     "data": {
      "text/plain": [
       "int"
      ]
     },
     "execution_count": 3,
     "metadata": {},
     "output_type": "execute_result"
    }
   ],
   "source": [
    "type(a)"
   ]
  },
  {
   "cell_type": "code",
   "execution_count": 4,
   "id": "76e22e15",
   "metadata": {},
   "outputs": [],
   "source": [
    "a,b=b,a #swap"
   ]
  },
  {
   "cell_type": "markdown",
   "id": "fffe5f8b",
   "metadata": {},
   "source": [
    "# mutable sequences"
   ]
  },
  {
   "cell_type": "code",
   "execution_count": 5,
   "id": "3cc81f2e",
   "metadata": {},
   "outputs": [],
   "source": [
    "#lists"
   ]
  },
  {
   "cell_type": "code",
   "execution_count": 6,
   "id": "afba19aa",
   "metadata": {},
   "outputs": [
    {
     "data": {
      "text/plain": [
       "[]"
      ]
     },
     "execution_count": 6,
     "metadata": {},
     "output_type": "execute_result"
    }
   ],
   "source": [
    "[]"
   ]
  },
  {
   "cell_type": "code",
   "execution_count": 7,
   "id": "9d41dd69",
   "metadata": {},
   "outputs": [
    {
     "data": {
      "text/plain": [
       "[]"
      ]
     },
     "execution_count": 7,
     "metadata": {},
     "output_type": "execute_result"
    }
   ],
   "source": [
    "list()# same as []"
   ]
  },
  {
   "cell_type": "code",
   "execution_count": 8,
   "id": "dda59119",
   "metadata": {},
   "outputs": [
    {
     "data": {
      "text/plain": [
       "[1, 2, 3]"
      ]
     },
     "execution_count": 8,
     "metadata": {},
     "output_type": "execute_result"
    }
   ],
   "source": [
    "[1,2,3]"
   ]
  },
  {
   "cell_type": "code",
   "execution_count": 11,
   "id": "6ee66795",
   "metadata": {},
   "outputs": [
    {
     "data": {
      "text/plain": [
       "[6, 7, 8]"
      ]
     },
     "execution_count": 11,
     "metadata": {},
     "output_type": "execute_result"
    }
   ],
   "source": [
    "[x+5 for x in  [1,2,3]]"
   ]
  },
  {
   "cell_type": "code",
   "execution_count": 12,
   "id": "6d13c332",
   "metadata": {},
   "outputs": [
    {
     "data": {
      "text/plain": [
       "[2, 3, 3, 3, 3, 2, 2, 2, 2]"
      ]
     },
     "execution_count": 12,
     "metadata": {},
     "output_type": "execute_result"
    }
   ],
   "source": [
    "list((2,3,3,3,3,2,2,2,2))"
   ]
  },
  {
   "cell_type": "code",
   "execution_count": 13,
   "id": "1a171d83",
   "metadata": {},
   "outputs": [
    {
     "data": {
      "text/plain": [
       "['h', 'e', 'l', 'l', 'o']"
      ]
     },
     "execution_count": 13,
     "metadata": {},
     "output_type": "execute_result"
    }
   ],
   "source": [
    "list('hello')"
   ]
  },
  {
   "cell_type": "code",
   "execution_count": 16,
   "id": "46064879",
   "metadata": {},
   "outputs": [
    {
     "data": {
      "text/plain": [
       "[1, 2, 3, 34]"
      ]
     },
     "execution_count": 16,
     "metadata": {},
     "output_type": "execute_result"
    }
   ],
   "source": [
    "a=[1,2,3]\n",
    "a.append(34)\n",
    "a"
   ]
  },
  {
   "cell_type": "code",
   "execution_count": 17,
   "id": "8d025a18",
   "metadata": {},
   "outputs": [],
   "source": [
    "a.extend([23,23,222,222])"
   ]
  },
  {
   "cell_type": "code",
   "execution_count": 18,
   "id": "ce93f4a5",
   "metadata": {},
   "outputs": [
    {
     "data": {
      "text/plain": [
       "[1, 2, 3, 34, 23, 23, 222, 222]"
      ]
     },
     "execution_count": 18,
     "metadata": {},
     "output_type": "execute_result"
    }
   ],
   "source": [
    "a"
   ]
  },
  {
   "cell_type": "code",
   "execution_count": 19,
   "id": "8b88a1c4",
   "metadata": {},
   "outputs": [
    {
     "data": {
      "text/plain": [
       "[1, 123, 2, 3, 34, 23, 23, 222, 222]"
      ]
     },
     "execution_count": 19,
     "metadata": {},
     "output_type": "execute_result"
    }
   ],
   "source": [
    "a.insert(1,123)\n",
    "a"
   ]
  },
  {
   "cell_type": "code",
   "execution_count": 20,
   "id": "2e7a8904",
   "metadata": {},
   "outputs": [
    {
     "data": {
      "text/plain": [
       "222"
      ]
     },
     "execution_count": 20,
     "metadata": {},
     "output_type": "execute_result"
    }
   ],
   "source": [
    "a.pop()"
   ]
  },
  {
   "cell_type": "code",
   "execution_count": 21,
   "id": "a1c33ad9",
   "metadata": {},
   "outputs": [
    {
     "data": {
      "text/plain": [
       "3"
      ]
     },
     "execution_count": 21,
     "metadata": {},
     "output_type": "execute_result"
    }
   ],
   "source": [
    "a.pop(3)"
   ]
  },
  {
   "cell_type": "code",
   "execution_count": 22,
   "id": "69f9257a",
   "metadata": {},
   "outputs": [],
   "source": [
    "a.remove(23)"
   ]
  },
  {
   "cell_type": "code",
   "execution_count": 23,
   "id": "b300736f",
   "metadata": {},
   "outputs": [
    {
     "data": {
      "text/plain": [
       "[1, 123, 2, 34, 23, 222]"
      ]
     },
     "execution_count": 23,
     "metadata": {},
     "output_type": "execute_result"
    }
   ],
   "source": [
    "a"
   ]
  },
  {
   "cell_type": "code",
   "execution_count": 24,
   "id": "2956e848",
   "metadata": {},
   "outputs": [],
   "source": [
    "a.sort()"
   ]
  },
  {
   "cell_type": "code",
   "execution_count": 25,
   "id": "97f9e372",
   "metadata": {},
   "outputs": [
    {
     "data": {
      "text/plain": [
       "[1, 2, 23, 34, 123, 222]"
      ]
     },
     "execution_count": 25,
     "metadata": {},
     "output_type": "execute_result"
    }
   ],
   "source": [
    "a"
   ]
  },
  {
   "cell_type": "code",
   "execution_count": 26,
   "id": "3f0e31bb",
   "metadata": {},
   "outputs": [],
   "source": [
    "a.clear()"
   ]
  },
  {
   "cell_type": "code",
   "execution_count": 27,
   "id": "cc80ce75",
   "metadata": {},
   "outputs": [
    {
     "data": {
      "text/plain": [
       "[]"
      ]
     },
     "execution_count": 27,
     "metadata": {},
     "output_type": "execute_result"
    }
   ],
   "source": [
    "a"
   ]
  },
  {
   "cell_type": "code",
   "execution_count": 28,
   "id": "2fd06732",
   "metadata": {},
   "outputs": [],
   "source": [
    "a=list('hello')"
   ]
  },
  {
   "cell_type": "code",
   "execution_count": 29,
   "id": "837a0d1a",
   "metadata": {},
   "outputs": [],
   "source": [
    "a.append(12)"
   ]
  },
  {
   "cell_type": "code",
   "execution_count": 30,
   "id": "03cd0fa2",
   "metadata": {},
   "outputs": [
    {
     "data": {
      "text/plain": [
       "['h', 'e', 'l', 'l', 'o', 12]"
      ]
     },
     "execution_count": 30,
     "metadata": {},
     "output_type": "execute_result"
    }
   ],
   "source": [
    "a"
   ]
  },
  {
   "cell_type": "code",
   "execution_count": 31,
   "id": "5e08e75c",
   "metadata": {},
   "outputs": [],
   "source": [
    "a.extend('fer')"
   ]
  },
  {
   "cell_type": "code",
   "execution_count": 32,
   "id": "3ce6d3ae",
   "metadata": {},
   "outputs": [
    {
     "data": {
      "text/plain": [
       "['h', 'e', 'l', 'l', 'o', 12, 'f', 'e', 'r']"
      ]
     },
     "execution_count": 32,
     "metadata": {},
     "output_type": "execute_result"
    }
   ],
   "source": [
    "a"
   ]
  },
  {
   "cell_type": "code",
   "execution_count": 36,
   "id": "ee0ca3cd",
   "metadata": {},
   "outputs": [
    {
     "data": {
      "text/plain": [
       "2"
      ]
     },
     "execution_count": 36,
     "metadata": {},
     "output_type": "execute_result"
    }
   ],
   "source": [
    "a=[2,3,3,4,55,6,6,67,7]\n",
    "min(a)"
   ]
  },
  {
   "cell_type": "code",
   "execution_count": 37,
   "id": "3346d46b",
   "metadata": {},
   "outputs": [
    {
     "data": {
      "text/plain": [
       "67"
      ]
     },
     "execution_count": 37,
     "metadata": {},
     "output_type": "execute_result"
    }
   ],
   "source": [
    "max(a)"
   ]
  },
  {
   "cell_type": "code",
   "execution_count": 38,
   "id": "d7a4755f",
   "metadata": {},
   "outputs": [
    {
     "data": {
      "text/plain": [
       "153"
      ]
     },
     "execution_count": 38,
     "metadata": {},
     "output_type": "execute_result"
    }
   ],
   "source": [
    "sum(a)"
   ]
  },
  {
   "cell_type": "code",
   "execution_count": 39,
   "id": "ef879914",
   "metadata": {},
   "outputs": [
    {
     "data": {
      "text/plain": [
       "9"
      ]
     },
     "execution_count": 39,
     "metadata": {},
     "output_type": "execute_result"
    }
   ],
   "source": [
    "len(a)"
   ]
  },
  {
   "cell_type": "code",
   "execution_count": 40,
   "id": "cfefe3ac",
   "metadata": {},
   "outputs": [
    {
     "data": {
      "text/plain": [
       "[2, 3, 3, 4, 55, 6, 6, 67, 7, 2323, 23, 23, 2, 32, 3, 2, 3, 2323]"
      ]
     },
     "execution_count": 40,
     "metadata": {},
     "output_type": "execute_result"
    }
   ],
   "source": [
    "b=[2323,23,23,2,32,3,2,3,2323]\n",
    "a+b"
   ]
  },
  {
   "cell_type": "code",
   "execution_count": 41,
   "id": "af267f06",
   "metadata": {},
   "outputs": [
    {
     "data": {
      "text/plain": [
       "[2, 3, 3, 4, 55, 6, 6, 67, 7]"
      ]
     },
     "execution_count": 41,
     "metadata": {},
     "output_type": "execute_result"
    }
   ],
   "source": [
    "a"
   ]
  },
  {
   "cell_type": "code",
   "execution_count": 42,
   "id": "42df8ba2",
   "metadata": {},
   "outputs": [
    {
     "data": {
      "text/plain": [
       "[2,\n",
       " 3,\n",
       " 3,\n",
       " 4,\n",
       " 55,\n",
       " 6,\n",
       " 6,\n",
       " 67,\n",
       " 7,\n",
       " 2,\n",
       " 3,\n",
       " 3,\n",
       " 4,\n",
       " 55,\n",
       " 6,\n",
       " 6,\n",
       " 67,\n",
       " 7,\n",
       " 2,\n",
       " 3,\n",
       " 3,\n",
       " 4,\n",
       " 55,\n",
       " 6,\n",
       " 6,\n",
       " 67,\n",
       " 7,\n",
       " 2,\n",
       " 3,\n",
       " 3,\n",
       " 4,\n",
       " 55,\n",
       " 6,\n",
       " 6,\n",
       " 67,\n",
       " 7,\n",
       " 2,\n",
       " 3,\n",
       " 3,\n",
       " 4,\n",
       " 55,\n",
       " 6,\n",
       " 6,\n",
       " 67,\n",
       " 7]"
      ]
     },
     "execution_count": 42,
     "metadata": {},
     "output_type": "execute_result"
    }
   ],
   "source": [
    "a*5"
   ]
  },
  {
   "cell_type": "code",
   "execution_count": 43,
   "id": "1f70f950",
   "metadata": {},
   "outputs": [],
   "source": [
    "# concatenate 5 times "
   ]
  },
  {
   "cell_type": "code",
   "execution_count": 44,
   "id": "767ab2e6",
   "metadata": {},
   "outputs": [],
   "source": [
    "from operator import itemgetter\n",
    "a=[(5,3),(1,3),(2,-1),(4,9),(5,3)]\n"
   ]
  },
  {
   "cell_type": "code",
   "execution_count": 45,
   "id": "9b34d78e",
   "metadata": {},
   "outputs": [
    {
     "data": {
      "text/plain": [
       "[(1, 3), (2, -1), (4, 9), (5, 3), (5, 3)]"
      ]
     },
     "execution_count": 45,
     "metadata": {},
     "output_type": "execute_result"
    }
   ],
   "source": [
    "sorted(a)"
   ]
  },
  {
   "cell_type": "code",
   "execution_count": 46,
   "id": "e1a6166e",
   "metadata": {},
   "outputs": [
    {
     "data": {
      "text/plain": [
       "[(1, 3), (2, -1), (4, 9), (5, 3), (5, 3)]"
      ]
     },
     "execution_count": 46,
     "metadata": {},
     "output_type": "execute_result"
    }
   ],
   "source": [
    "sorted(a,key=itemgetter(0))"
   ]
  },
  {
   "cell_type": "code",
   "execution_count": 47,
   "id": "5c65b3d1",
   "metadata": {},
   "outputs": [
    {
     "data": {
      "text/plain": [
       "[(1, 3), (2, -1), (4, 9), (5, 3), (5, 3)]"
      ]
     },
     "execution_count": 47,
     "metadata": {},
     "output_type": "execute_result"
    }
   ],
   "source": [
    "sorted(a,key=itemgetter(0,1))"
   ]
  },
  {
   "cell_type": "markdown",
   "id": "b8f4be44",
   "metadata": {},
   "source": [
    "# Byte arrays"
   ]
  },
  {
   "cell_type": "code",
   "execution_count": 48,
   "id": "1620d106",
   "metadata": {},
   "outputs": [
    {
     "data": {
      "text/plain": [
       "bytearray(b'')"
      ]
     },
     "execution_count": 48,
     "metadata": {},
     "output_type": "execute_result"
    }
   ],
   "source": [
    "bytearray( )#empty"
   ]
  },
  {
   "cell_type": "code",
   "execution_count": 49,
   "id": "50c641e8",
   "metadata": {},
   "outputs": [
    {
     "data": {
      "text/plain": [
       "bytearray(b'\\x00\\x00\\x00\\x00\\x00\\x00\\x00\\x00\\x00\\x00')"
      ]
     },
     "execution_count": 49,
     "metadata": {},
     "output_type": "execute_result"
    }
   ],
   "source": [
    "bytearray(10)"
   ]
  },
  {
   "cell_type": "code",
   "execution_count": 50,
   "id": "3a788adb",
   "metadata": {},
   "outputs": [],
   "source": [
    "#zero filled with given length"
   ]
  },
  {
   "cell_type": "code",
   "execution_count": 52,
   "id": "07c431f8",
   "metadata": {},
   "outputs": [
    {
     "data": {
      "text/plain": [
       "bytearray(b'\\x00\\x01\\x02\\x03\\x04')"
      ]
     },
     "execution_count": 52,
     "metadata": {},
     "output_type": "execute_result"
    }
   ],
   "source": [
    "bytearray(range(5))"
   ]
  },
  {
   "cell_type": "code",
   "execution_count": 53,
   "id": "a9a7f06a",
   "metadata": {},
   "outputs": [
    {
     "data": {
      "text/plain": [
       "range(0, 5)"
      ]
     },
     "execution_count": 53,
     "metadata": {},
     "output_type": "execute_result"
    }
   ],
   "source": [
    "range(5)"
   ]
  },
  {
   "cell_type": "code",
   "execution_count": 57,
   "id": "84329e0e",
   "metadata": {},
   "outputs": [],
   "source": [
    "name=bytearray(b'ddd')"
   ]
  },
  {
   "cell_type": "code",
   "execution_count": 55,
   "id": "30411320",
   "metadata": {},
   "outputs": [
    {
     "data": {
      "text/plain": [
       "bytearray(b'Lina')"
      ]
     },
     "execution_count": 55,
     "metadata": {},
     "output_type": "execute_result"
    }
   ],
   "source": [
    "name"
   ]
  },
  {
   "cell_type": "markdown",
   "id": "8f973709",
   "metadata": {},
   "source": [
    "They can be useful in many situations; for example, when receiving data through a socket,\n",
    "they eliminate the need to concatenate data while polling, hence they can prove to be very\n",
    "handy"
   ]
  },
  {
   "cell_type": "markdown",
   "id": "ec983200",
   "metadata": {},
   "source": [
    "# set types"
   ]
  },
  {
   "cell_type": "code",
   "execution_count": 59,
   "id": "18807a75",
   "metadata": {},
   "outputs": [],
   "source": [
    "# python also provides two set types set,frozenset,set type is mutablewhile frozenset is immutable"
   ]
  },
  {
   "cell_type": "markdown",
   "id": "e9e4aa30",
   "metadata": {},
   "source": [
    ". All of Python’s\n",
    "immutable built-in objects are hashable while mutable containers are not."
   ]
  },
  {
   "cell_type": "code",
   "execution_count": 60,
   "id": "715061ec",
   "metadata": {},
   "outputs": [],
   "source": [
    "small_primes=set()"
   ]
  },
  {
   "cell_type": "code",
   "execution_count": 61,
   "id": "3f51f13e",
   "metadata": {},
   "outputs": [],
   "source": [
    "small_primes.add(2)"
   ]
  },
  {
   "cell_type": "code",
   "execution_count": 62,
   "id": "d34c9f23",
   "metadata": {},
   "outputs": [
    {
     "data": {
      "text/plain": [
       "{2}"
      ]
     },
     "execution_count": 62,
     "metadata": {},
     "output_type": "execute_result"
    }
   ],
   "source": [
    "small_primes"
   ]
  },
  {
   "cell_type": "code",
   "execution_count": 64,
   "id": "0c433e00",
   "metadata": {},
   "outputs": [],
   "source": [
    "small_primes.add((2,3))"
   ]
  },
  {
   "cell_type": "code",
   "execution_count": 65,
   "id": "61e40025",
   "metadata": {},
   "outputs": [
    {
     "data": {
      "text/plain": [
       "{(2, 3), 2}"
      ]
     },
     "execution_count": 65,
     "metadata": {},
     "output_type": "execute_result"
    }
   ],
   "source": [
    "small_primes"
   ]
  },
  {
   "cell_type": "code",
   "execution_count": 66,
   "id": "de68714e",
   "metadata": {},
   "outputs": [],
   "source": [
    "small_primes.remove(2)"
   ]
  },
  {
   "cell_type": "code",
   "execution_count": 67,
   "id": "4bcf7d25",
   "metadata": {},
   "outputs": [
    {
     "data": {
      "text/plain": [
       "True"
      ]
     },
     "execution_count": 67,
     "metadata": {},
     "output_type": "execute_result"
    }
   ],
   "source": [
    "(2,3) in small_primes"
   ]
  },
  {
   "cell_type": "code",
   "execution_count": 68,
   "id": "340589cc",
   "metadata": {},
   "outputs": [
    {
     "data": {
      "text/plain": [
       "True"
      ]
     },
     "execution_count": 68,
     "metadata": {},
     "output_type": "execute_result"
    }
   ],
   "source": [
    "4 not in small_primes"
   ]
  },
  {
   "cell_type": "code",
   "execution_count": 69,
   "id": "816d40ac",
   "metadata": {},
   "outputs": [],
   "source": [
    "bigger_primes=set([232,232,32,32])"
   ]
  },
  {
   "cell_type": "code",
   "execution_count": 70,
   "id": "5261becf",
   "metadata": {},
   "outputs": [
    {
     "data": {
      "text/plain": [
       "{32, 232}"
      ]
     },
     "execution_count": 70,
     "metadata": {},
     "output_type": "execute_result"
    }
   ],
   "source": [
    "bigger_primes"
   ]
  },
  {
   "cell_type": "code",
   "execution_count": 71,
   "id": "894ab984",
   "metadata": {},
   "outputs": [
    {
     "data": {
      "text/plain": [
       "{(2, 3), 232, 32}"
      ]
     },
     "execution_count": 71,
     "metadata": {},
     "output_type": "execute_result"
    }
   ],
   "source": [
    "small_primes | bigger_primes # union"
   ]
  },
  {
   "cell_type": "code",
   "execution_count": 72,
   "id": "a34c7936",
   "metadata": {},
   "outputs": [
    {
     "data": {
      "text/plain": [
       "set()"
      ]
     },
     "execution_count": 72,
     "metadata": {},
     "output_type": "execute_result"
    }
   ],
   "source": [
    "bigger_primes & small_primes # intersection"
   ]
  },
  {
   "cell_type": "code",
   "execution_count": 73,
   "id": "c51ad48e",
   "metadata": {},
   "outputs": [
    {
     "data": {
      "text/plain": [
       "{(2, 3)}"
      ]
     },
     "execution_count": 73,
     "metadata": {},
     "output_type": "execute_result"
    }
   ],
   "source": [
    "small_primes-bigger_primes "
   ]
  },
  {
   "cell_type": "code",
   "execution_count": 74,
   "id": "412a5288",
   "metadata": {},
   "outputs": [],
   "source": [
    "# another way to create set is \n",
    "small_prim={2,32323,2,2,2,32,32,24,4,54,5}"
   ]
  },
  {
   "cell_type": "code",
   "execution_count": 75,
   "id": "304ed2da",
   "metadata": {},
   "outputs": [
    {
     "data": {
      "text/plain": [
       "{2, 4, 5, 24, 32, 54, 32323}"
      ]
     },
     "execution_count": 75,
     "metadata": {},
     "output_type": "execute_result"
    }
   ],
   "source": [
    "small_prim"
   ]
  },
  {
   "cell_type": "code",
   "execution_count": 76,
   "id": "b5a8f4e5",
   "metadata": {},
   "outputs": [],
   "source": [
    "smallfrozen=frozenset([232323,2323,2,32,32,23,32])"
   ]
  },
  {
   "cell_type": "code",
   "execution_count": 77,
   "id": "02eb7af1",
   "metadata": {},
   "outputs": [
    {
     "ename": "AttributeError",
     "evalue": "type object 'frozenset' has no attribute 'add'",
     "output_type": "error",
     "traceback": [
      "\u001b[1;31m---------------------------------------------------------------------------\u001b[0m",
      "\u001b[1;31mAttributeError\u001b[0m                            Traceback (most recent call last)",
      "\u001b[1;32m~\\AppData\\Local\\Temp/ipykernel_8616/785946307.py\u001b[0m in \u001b[0;36m<module>\u001b[1;34m\u001b[0m\n\u001b[1;32m----> 1\u001b[1;33m \u001b[0mfrozenset\u001b[0m\u001b[1;33m.\u001b[0m\u001b[0madd\u001b[0m\u001b[1;33m(\u001b[0m\u001b[1;36m23\u001b[0m\u001b[1;33m)\u001b[0m\u001b[1;33m\u001b[0m\u001b[1;33m\u001b[0m\u001b[0m\n\u001b[0m",
      "\u001b[1;31mAttributeError\u001b[0m: type object 'frozenset' has no attribute 'add'"
     ]
    }
   ],
   "source": [
    "frozenset.add(23)"
   ]
  },
  {
   "cell_type": "markdown",
   "id": "db0c5615",
   "metadata": {},
   "source": [
    "# maping Types"
   ]
  },
  {
   "cell_type": "markdown",
   "id": "e34c08c6",
   "metadata": {},
   "source": [
    "Of all the built-in Python data types, the dictionary is easily the most interesting one. It's\n",
    "the only standard mapping type, and it is the backbone of every Python object.\n"
   ]
  },
  {
   "cell_type": "markdown",
   "id": "e94a93cd",
   "metadata": {},
   "source": [
    "Keys need to be hashable objecs while values can be of any arbitrary type"
   ]
  },
  {
   "cell_type": "markdown",
   "id": "d3d70657",
   "metadata": {},
   "source": [
    "key are of immutable type"
   ]
  },
  {
   "cell_type": "markdown",
   "id": "2e19a210",
   "metadata": {},
   "source": [
    "From the official documentation: An object is hashable if it has a hash value\n",
    "which never changes during its lifetime, and can be compared to other\n",
    "objects. Hashability makes an object usable as a dictionary key and a set member,\n",
    "because these data structures use the hash value internally. All of Python’s\n",
    "immutable built-in objects are hashable while mutable containers are not"
   ]
  },
  {
   "cell_type": "code",
   "execution_count": 85,
   "id": "e2407eed",
   "metadata": {},
   "outputs": [],
   "source": [
    "a=dict(A=1,Z=-1)"
   ]
  },
  {
   "cell_type": "code",
   "execution_count": 86,
   "id": "bbe0cd46",
   "metadata": {},
   "outputs": [],
   "source": [
    "b={'A':1, 'Z':-1}"
   ]
  },
  {
   "cell_type": "code",
   "execution_count": 87,
   "id": "447e71c9",
   "metadata": {},
   "outputs": [
    {
     "data": {
      "text/plain": [
       "True"
      ]
     },
     "execution_count": 87,
     "metadata": {},
     "output_type": "execute_result"
    }
   ],
   "source": [
    "c = dict(zip(['A', 'Z'], [1, -1]))\n",
    "d = dict([('A', 1), ('Z', -1)])\n",
    "e = dict({'Z': -1, 'A': 1})\n",
    "a == b == c == d == e # are they all the same?"
   ]
  },
  {
   "cell_type": "markdown",
   "id": "7c5231af",
   "metadata": {},
   "source": [
    " the is operator, and\n",
    "checks whether the two objects are the same (if they have the same ID"
   ]
  },
  {
   "cell_type": "code",
   "execution_count": 93,
   "id": "2d415f01",
   "metadata": {},
   "outputs": [],
   "source": [
    "a=zip(['h','e'],[1,2])\n",
    "#It is named after the real-life zip,\n",
    "#which glues together two things taking one element from each at a time\n",
    "# zip returns a itertor"
   ]
  },
  {
   "cell_type": "code",
   "execution_count": 91,
   "id": "85163c17",
   "metadata": {},
   "outputs": [
    {
     "data": {
      "text/plain": [
       "[('h', 1), ('e', 2)]"
      ]
     },
     "execution_count": 91,
     "metadata": {},
     "output_type": "execute_result"
    }
   ],
   "source": [
    "list(a)"
   ]
  },
  {
   "cell_type": "code",
   "execution_count": 94,
   "id": "7999cb83",
   "metadata": {},
   "outputs": [],
   "source": [
    "d={}"
   ]
  },
  {
   "cell_type": "code",
   "execution_count": 95,
   "id": "7527a98b",
   "metadata": {},
   "outputs": [],
   "source": [
    "d['a']=1"
   ]
  },
  {
   "cell_type": "code",
   "execution_count": 97,
   "id": "403e8209",
   "metadata": {},
   "outputs": [],
   "source": [
    "d['b']=2"
   ]
  },
  {
   "cell_type": "code",
   "execution_count": 98,
   "id": "d762b1a0",
   "metadata": {},
   "outputs": [
    {
     "data": {
      "text/plain": [
       "2"
      ]
     },
     "execution_count": 98,
     "metadata": {},
     "output_type": "execute_result"
    }
   ],
   "source": [
    "len(d)"
   ]
  },
  {
   "cell_type": "code",
   "execution_count": 99,
   "id": "e57daac3",
   "metadata": {},
   "outputs": [
    {
     "data": {
      "text/plain": [
       "1"
      ]
     },
     "execution_count": 99,
     "metadata": {},
     "output_type": "execute_result"
    }
   ],
   "source": [
    "d['a']"
   ]
  },
  {
   "cell_type": "code",
   "execution_count": 100,
   "id": "b34eb9e3",
   "metadata": {},
   "outputs": [
    {
     "data": {
      "text/plain": [
       "{'a': 1, 'b': 2}"
      ]
     },
     "execution_count": 100,
     "metadata": {},
     "output_type": "execute_result"
    }
   ],
   "source": [
    "d"
   ]
  },
  {
   "cell_type": "code",
   "execution_count": 101,
   "id": "3628c1d8",
   "metadata": {},
   "outputs": [],
   "source": [
    "del d['a']"
   ]
  },
  {
   "cell_type": "code",
   "execution_count": 102,
   "id": "e3f68e7f",
   "metadata": {},
   "outputs": [
    {
     "data": {
      "text/plain": [
       "{'b': 2}"
      ]
     },
     "execution_count": 102,
     "metadata": {},
     "output_type": "execute_result"
    }
   ],
   "source": [
    "d"
   ]
  },
  {
   "cell_type": "code",
   "execution_count": 103,
   "id": "cd89aa4e",
   "metadata": {},
   "outputs": [],
   "source": [
    "d['c']=3"
   ]
  },
  {
   "cell_type": "code",
   "execution_count": 104,
   "id": "92835c62",
   "metadata": {},
   "outputs": [
    {
     "data": {
      "text/plain": [
       "True"
      ]
     },
     "execution_count": 104,
     "metadata": {},
     "output_type": "execute_result"
    }
   ],
   "source": [
    "'c' in d"
   ]
  },
  {
   "cell_type": "code",
   "execution_count": 105,
   "id": "e96403aa",
   "metadata": {},
   "outputs": [
    {
     "data": {
      "text/plain": [
       "False"
      ]
     },
     "execution_count": 105,
     "metadata": {},
     "output_type": "execute_result"
    }
   ],
   "source": [
    "3 in d"
   ]
  },
  {
   "cell_type": "code",
   "execution_count": 106,
   "id": "d6aeaf67",
   "metadata": {},
   "outputs": [
    {
     "data": {
      "text/plain": [
       "False"
      ]
     },
     "execution_count": 106,
     "metadata": {},
     "output_type": "execute_result"
    }
   ],
   "source": [
    "'e' in d"
   ]
  },
  {
   "cell_type": "code",
   "execution_count": 107,
   "id": "95c1479e",
   "metadata": {},
   "outputs": [],
   "source": [
    "d.clear()"
   ]
  },
  {
   "cell_type": "markdown",
   "id": "b2f9ee7d",
   "metadata": {},
   "source": [
    "Let's see now three special objects called dictionary views: keys, values, and items.These\n",
    "objects provide a dynamic view of the dictionary entries and they change when the\n",
    "dictionary changes. keys() returns all the keys in the dictionary, values() returns all the\n",
    "values in the dictionary, and items() returns all the (key, value) pairs in the dictionary.\n"
   ]
  },
  {
   "cell_type": "code",
   "execution_count": 112,
   "id": "ece93475",
   "metadata": {},
   "outputs": [],
   "source": [
    "d=dict(zip('hello',range(5)))"
   ]
  },
  {
   "cell_type": "code",
   "execution_count": 113,
   "id": "6239affe",
   "metadata": {},
   "outputs": [
    {
     "data": {
      "text/plain": [
       "{'h': 0, 'e': 1, 'l': 3, 'o': 4}"
      ]
     },
     "execution_count": 113,
     "metadata": {},
     "output_type": "execute_result"
    }
   ],
   "source": [
    "d"
   ]
  },
  {
   "cell_type": "code",
   "execution_count": 114,
   "id": "b9df34f7",
   "metadata": {},
   "outputs": [
    {
     "data": {
      "text/plain": [
       "dict_keys(['h', 'e', 'l', 'o'])"
      ]
     },
     "execution_count": 114,
     "metadata": {},
     "output_type": "execute_result"
    }
   ],
   "source": [
    "d.keys()"
   ]
  },
  {
   "cell_type": "code",
   "execution_count": 115,
   "id": "6a1190a2",
   "metadata": {},
   "outputs": [
    {
     "data": {
      "text/plain": [
       "dict_items([('h', 0), ('e', 1), ('l', 3), ('o', 4)])"
      ]
     },
     "execution_count": 115,
     "metadata": {},
     "output_type": "execute_result"
    }
   ],
   "source": [
    "d.items()"
   ]
  },
  {
   "cell_type": "code",
   "execution_count": 116,
   "id": "301ae286",
   "metadata": {},
   "outputs": [
    {
     "data": {
      "text/plain": [
       "dict_values([0, 1, 3, 4])"
      ]
     },
     "execution_count": 116,
     "metadata": {},
     "output_type": "execute_result"
    }
   ],
   "source": [
    "d.values()"
   ]
  },
  {
   "cell_type": "code",
   "execution_count": 117,
   "id": "0e45ad9d",
   "metadata": {},
   "outputs": [
    {
     "data": {
      "text/plain": [
       "('o', 4)"
      ]
     },
     "execution_count": 117,
     "metadata": {},
     "output_type": "execute_result"
    }
   ],
   "source": [
    "d.popitem()"
   ]
  },
  {
   "cell_type": "code",
   "execution_count": 120,
   "id": "ec43d378",
   "metadata": {},
   "outputs": [
    {
     "data": {
      "text/plain": [
       "3"
      ]
     },
     "execution_count": 120,
     "metadata": {},
     "output_type": "execute_result"
    }
   ],
   "source": [
    "d.pop('l')"
   ]
  },
  {
   "cell_type": "code",
   "execution_count": 122,
   "id": "fb7c68b7",
   "metadata": {},
   "outputs": [
    {
     "data": {
      "text/plain": [
       "'default'"
      ]
     },
     "execution_count": 122,
     "metadata": {},
     "output_type": "execute_result"
    }
   ],
   "source": [
    "d.pop('notkey','default')"
   ]
  },
  {
   "cell_type": "code",
   "execution_count": 123,
   "id": "3fe0ea63",
   "metadata": {},
   "outputs": [],
   "source": [
    "d.update({'another':'va'})"
   ]
  },
  {
   "cell_type": "code",
   "execution_count": 124,
   "id": "39655b79",
   "metadata": {},
   "outputs": [],
   "source": [
    "d.update(a=12)"
   ]
  },
  {
   "cell_type": "code",
   "execution_count": 125,
   "id": "01e87d9a",
   "metadata": {},
   "outputs": [
    {
     "data": {
      "text/plain": [
       "{'h': 0, 'e': 1, 'another': 'va', 'a': 12}"
      ]
     },
     "execution_count": 125,
     "metadata": {},
     "output_type": "execute_result"
    }
   ],
   "source": [
    "d"
   ]
  },
  {
   "cell_type": "code",
   "execution_count": 126,
   "id": "7658d120",
   "metadata": {},
   "outputs": [
    {
     "data": {
      "text/plain": [
       "12"
      ]
     },
     "execution_count": 126,
     "metadata": {},
     "output_type": "execute_result"
    }
   ],
   "source": [
    "d.get('a')"
   ]
  },
  {
   "cell_type": "code",
   "execution_count": 127,
   "id": "f6bfc36a",
   "metadata": {},
   "outputs": [
    {
     "data": {
      "text/plain": [
       "'dfault'"
      ]
     },
     "execution_count": 127,
     "metadata": {},
     "output_type": "execute_result"
    }
   ],
   "source": [
    "d.get('sdd','dfault')"
   ]
  },
  {
   "cell_type": "markdown",
   "id": "b839ca6d",
   "metadata": {},
   "source": [
    ">>> d = {}\n",
    ">>> d.setdefault('a', 1) # 'a' is missing, we get default value\n",
    "1\n",
    ">>> d\n",
    "{'a': 1} # also, the key/value pair ('a', 1) has now been added\n",
    ">>> d.setdefault('a', 5) # let's try to override the value\n",
    "1\n",
    ">>> d\n",
    "{'a': 1} "
   ]
  },
  {
   "cell_type": "code",
   "execution_count": 128,
   "id": "003e0fe7",
   "metadata": {},
   "outputs": [],
   "source": [
    "d = {}\n",
    "d.setdefault('a', {}).setdefault('b', []).append(1)"
   ]
  },
  {
   "cell_type": "code",
   "execution_count": 129,
   "id": "ffb8c861",
   "metadata": {},
   "outputs": [
    {
     "data": {
      "text/plain": [
       "{'a': {'b': [1]}}"
      ]
     },
     "execution_count": 129,
     "metadata": {},
     "output_type": "execute_result"
    }
   ],
   "source": [
    "d"
   ]
  },
  {
   "cell_type": "code",
   "execution_count": null,
   "id": "8d3b23fa",
   "metadata": {},
   "outputs": [],
   "source": []
  }
 ],
 "metadata": {
  "kernelspec": {
   "display_name": "Python 3 (ipykernel)",
   "language": "python",
   "name": "python3"
  },
  "language_info": {
   "codemirror_mode": {
    "name": "ipython",
    "version": 3
   },
   "file_extension": ".py",
   "mimetype": "text/x-python",
   "name": "python",
   "nbconvert_exporter": "python",
   "pygments_lexer": "ipython3",
   "version": "3.9.5"
  }
 },
 "nbformat": 4,
 "nbformat_minor": 5
}
